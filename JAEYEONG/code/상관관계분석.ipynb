{
 "cells": [
  {
   "cell_type": "code",
   "execution_count": 2,
   "metadata": {},
   "outputs": [
    {
     "name": "stderr",
     "output_type": "stream",
     "text": [
      "/tmp/ipykernel_525683/3644729738.py:7: DtypeWarning: Columns (16,17,36) have mixed types. Specify dtype option on import or set low_memory=False.\n",
      "  train_data = pd.read_csv(train_file_path)\n",
      "/tmp/ipykernel_525683/3644729738.py:8: DtypeWarning: Columns (17) have mixed types. Specify dtype option on import or set low_memory=False.\n",
      "  test_data = pd.read_csv(test_file_path)\n"
     ]
    },
    {
     "name": "stdout",
     "output_type": "stream",
     "text": [
      "Columns to drop: ['Job_Platform', 'Life_Redesign_Education_Consulting_Social_Participation', 'Minor_Population', 'Minor_Population_Growth_Rate', 'Outflow_Population', 'Outflow_Population_Growth_Rate', 'Senior_Population', 'Senior_Population_Growth_Rate', 'Social_Contribution_Academy', 'call_rate_1day_avg', 'cancellation_reason_date', 'cd_91_day', 'contract_year_month', 'corporate_bond_3yr_aa_minus', 'floor_log', 'general_food', 'government_bond_10yr', 'government_bond_3yr', 'government_bond_5yr', 'maintenance_area', 'residential_area', 'rest_area_food', 'rounded_X', 'rounded_Y', 'total_households']\n",
      "Most correlated with target: exclusive_area 0.5770410539850063\n"
     ]
    }
   ],
   "source": [
    "import pandas as pd\n",
    "import numpy as np\n",
    "\n",
    "# Load the train and test datasets\n",
    "train_file_path = '/root/code/final_train.csv'\n",
    "test_file_path = '/root/code/final_test.csv'\n",
    "train_data = pd.read_csv(train_file_path)\n",
    "test_data = pd.read_csv(test_file_path)\n",
    "\n",
    "# Remove the unnamed column if exists\n",
    "train_data = train_data.loc[:, ~train_data.columns.str.contains('^Unnamed')]\n",
    "test_data = test_data.loc[:, ~test_data.columns.str.contains('^Unnamed')]\n",
    "\n",
    "# Convert categorical variables to numerical where appropriate for correlation analysis\n",
    "train_data_numeric = train_data.select_dtypes(include=[np.number])\n",
    "test_data_numeric = test_data.select_dtypes(include=[np.number])\n",
    "\n",
    "# Compute the correlation matrix\n",
    "correlation_matrix = train_data_numeric.corr()\n",
    "\n",
    "# Identify highly correlated features (absolute value > 0.8) to drop\n",
    "upper_triangle = correlation_matrix.where(np.triu(np.ones(correlation_matrix.shape), k=1).astype(bool))\n",
    "to_drop = [column for column in upper_triangle.columns if any(upper_triangle[column].abs() > 0.8)]\n",
    "\n",
    "# Find the feature most correlated with 'target'\n",
    "target_correlation = correlation_matrix['target'].drop('target')\n",
    "most_correlated_with_target = target_correlation.abs().idxmax()\n",
    "most_correlated_value = target_correlation[most_correlated_with_target]\n",
    "\n",
    "# Identify columns highly correlated with 'target'\n",
    "threshold = 0.8\n",
    "highly_correlated_with_target = target_correlation[abs(target_correlation) > threshold].index.tolist()\n",
    "\n",
    "# Filter out columns that are highly correlated with 'target'\n",
    "remaining_columns = train_data_numeric.columns.difference(highly_correlated_with_target + ['target'])\n",
    "\n",
    "# Compute the correlation matrix for the remaining columns\n",
    "remaining_correlation_matrix = train_data_numeric[remaining_columns].corr()\n",
    "\n",
    "# Identify columns to drop based on high correlation within the remaining variables\n",
    "correlation_threshold = 0.8\n",
    "upper_triangle_remaining = remaining_correlation_matrix.where(np.triu(np.ones(remaining_correlation_matrix.shape), k=1).astype(bool))\n",
    "to_drop_remaining = [column for column in upper_triangle_remaining.columns if any(upper_triangle_remaining[column].abs() > correlation_threshold)]\n",
    "\n",
    "# Drop the identified columns from the train dataset\n",
    "cleaned_train_data = train_data_numeric.drop(columns=to_drop_remaining + highly_correlated_with_target)\n",
    "\n",
    "# Apply the same columns removal to the test dataset\n",
    "cleaned_test_data = test_data_numeric.drop(columns=to_drop_remaining + highly_correlated_with_target, errors='ignore')\n",
    "\n",
    "# Save the cleaned data to new CSV files if needed\n",
    "cleaned_train_data.to_csv('cleaned_train_data.csv', index=False)\n",
    "cleaned_test_data.to_csv('cleaned_test_data.csv', index=False)\n",
    "\n",
    "print(\"Columns to drop:\", to_drop_remaining + highly_correlated_with_target)\n",
    "print(\"Most correlated with target:\", most_correlated_with_target, most_correlated_value)\n"
   ]
  },
  {
   "cell_type": "code",
   "execution_count": 7,
   "metadata": {},
   "outputs": [
    {
     "name": "stdout",
     "output_type": "stream",
     "text": [
      "Columns with more than 700,000 missing values:\n",
      "complex_description              1050240\n",
      "total_buildings                   870630\n",
      "gross_area                        869563\n",
      "household_status_below_60sqm      869608\n",
      "household_status_60_to_85sqm      869608\n",
      "household_status_85_to_135sqm     869608\n",
      "household_status_above_135sqm    1118495\n",
      "building_area                     869714\n",
      "parking_spaces                    869714\n",
      "cinema_distance                   869670\n",
      "large_store_distance              869670\n",
      "Female_Population                 895632\n",
      "Female_Population_Growth_Rate     895632\n",
      "dtype: int64\n"
     ]
    }
   ],
   "source": [
    "# Check for missing values\n",
    "missing_values = cleaned_train_data.isnull().sum()\n",
    "\n",
    "# Filter columns with more than 700,000 missing values\n",
    "columns_with_many_missing = missing_values[missing_values > 200000]\n",
    "\n",
    "# Display the result\n",
    "print(\"Columns with more than 700,000 missing values:\")\n",
    "print(columns_with_many_missing)"
   ]
  },
  {
   "cell_type": "code",
   "execution_count": 8,
   "metadata": {},
   "outputs": [
    {
     "name": "stdout",
     "output_type": "stream",
     "text": [
      "DataFrame after dropping columns with more than 700,000 missing values:\n",
      "         main_number  sub_number  exclusive_area  contract_day  floor  \\\n",
      "0              658.0         1.0           79.97             8      3   \n",
      "1              658.0         1.0           79.97            22      4   \n",
      "2              658.0         1.0           54.98            28      5   \n",
      "3              658.0         1.0           79.97             3      4   \n",
      "4              658.0         1.0           79.97             8      2   \n",
      "...              ...         ...             ...           ...    ...   \n",
      "1118817        382.0         0.0           59.94            12     11   \n",
      "1118818        382.0         0.0           59.94            25     10   \n",
      "1118819        382.0         0.0           84.83            31     20   \n",
      "1118820        382.0         0.0           84.83            15      8   \n",
      "1118821         11.0        67.0           52.46            10      5   \n",
      "\n",
      "         construction_year  target  base_rate  within_500m_bus  \\\n",
      "0                     1987  124000       1.50               12   \n",
      "1                     1987  123500       1.50               12   \n",
      "2                     1987   91500       1.50               12   \n",
      "3                     1987  130000       1.75               12   \n",
      "4                     1987  117000       1.75               12   \n",
      "...                    ...     ...        ...              ...   \n",
      "1118817               1998   20000       5.00               20   \n",
      "1118818               1998   20000       5.00               20   \n",
      "1118819               1998   28000       5.00               20   \n",
      "1118820               1998   29000       5.00               20   \n",
      "1118821               1981   13250       5.00               14   \n",
      "\n",
      "         nearest_distance  ...  Libraries_By_District  Education_For_50+  \\\n",
      "0             1197.220431  ...                     54                  0   \n",
      "1             1197.220431  ...                     54                  0   \n",
      "2             1197.220431  ...                     54                  0   \n",
      "3             1197.220431  ...                     54                  0   \n",
      "4             1197.220431  ...                     54                  0   \n",
      "...                   ...  ...                    ...                ...   \n",
      "1118817       1042.761409  ...                     80                  0   \n",
      "1118818       1042.761409  ...                     80                  0   \n",
      "1118819       1042.761409  ...                     80                  0   \n",
      "1118820       1042.761409  ...                     80                  0   \n",
      "1118821        524.018464  ...                     25                  0   \n",
      "\n",
      "         Policy_Planning_For_50+  Operation  Support  Community_Support  \\\n",
      "0                              0          0        0                  0   \n",
      "1                              0          0        0                  0   \n",
      "2                              0          0        0                  0   \n",
      "3                              0          0        0                  0   \n",
      "4                              0          0        0                  0   \n",
      "...                          ...        ...      ...                ...   \n",
      "1118817                        0          0        0                  0   \n",
      "1118818                        0          0        0                  0   \n",
      "1118819                        0          0        0                  0   \n",
      "1118820                        0          0        0                  0   \n",
      "1118821                        0          0        0                  0   \n",
      "\n",
      "         Total_Bike_Racks_By_District  Total_Bike_Racks_By_Coordinate  \\\n",
      "0                              1754.0                             0.0   \n",
      "1                              1754.0                             0.0   \n",
      "2                              1754.0                             0.0   \n",
      "3                              1754.0                             0.0   \n",
      "4                              1754.0                             0.0   \n",
      "...                               ...                             ...   \n",
      "1118817                        1030.0                             0.0   \n",
      "1118818                        1030.0                             0.0   \n",
      "1118819                        1030.0                             0.0   \n",
      "1118820                        1030.0                             0.0   \n",
      "1118821                        1013.0                             0.0   \n",
      "\n",
      "         Inflow_Population  Inflow_Population_Growth_Rate  \n",
      "0                 46503964                          30.51  \n",
      "1                 46503964                          30.51  \n",
      "2                 46503964                          30.51  \n",
      "3                 46503964                          30.51  \n",
      "4                 46503964                          30.51  \n",
      "...                    ...                            ...  \n",
      "1118817           16751474                          26.62  \n",
      "1118818           16751474                          26.62  \n",
      "1118819           16751474                          26.62  \n",
      "1118820           16751474                          26.62  \n",
      "1118821           18725789                          29.30  \n",
      "\n",
      "[1118822 rows x 37 columns]\n"
     ]
    }
   ],
   "source": [
    "# Drop these columns\n",
    "cleaned_train_data_dropped = cleaned_train_data.drop(columns=columns_with_many_missing.index)\n",
    "\n",
    "# Display the result\n",
    "print(\"DataFrame after dropping columns with more than 700,000 missing values:\")\n",
    "print(cleaned_train_data_dropped)"
   ]
  },
  {
   "cell_type": "code",
   "execution_count": 9,
   "metadata": {},
   "outputs": [
    {
     "data": {
      "text/plain": [
       "Index(['main_number', 'sub_number', 'exclusive_area', 'contract_day', 'floor',\n",
       "       'construction_year', 'target', 'base_rate', 'within_500m_bus',\n",
       "       'nearest_distance', 'within_250m', 'within_500m', 'beyond_500m',\n",
       "       'distance_elementary', 'distance_middle', 'distance_elem50',\n",
       "       'distance_elem75', 'distance_elem100', 'distance_middle50',\n",
       "       'distance_middle75', 'distance_middle100', 'daechi_mokdong',\n",
       "       'contract_month', 'high_achivement', 'coordinate_x', 'coordinate_y',\n",
       "       'Libraries_By_Coordinate', 'Libraries_By_District', 'Education_For_50+',\n",
       "       'Policy_Planning_For_50+', 'Operation', 'Support', 'Community_Support',\n",
       "       'Total_Bike_Racks_By_District', 'Total_Bike_Racks_By_Coordinate',\n",
       "       'Inflow_Population', 'Inflow_Population_Growth_Rate'],\n",
       "      dtype='object')"
      ]
     },
     "execution_count": 9,
     "metadata": {},
     "output_type": "execute_result"
    }
   ],
   "source": [
    "cleaned_train_data_dropped.columns\n"
   ]
  },
  {
   "cell_type": "code",
   "execution_count": 10,
   "metadata": {},
   "outputs": [],
   "source": [
    "columns_to_drop = ['main_number', 'sub_number']\n",
    "final = cleaned_train_data_dropped.drop(columns=columns_to_drop)"
   ]
  },
  {
   "cell_type": "code",
   "execution_count": 16,
   "metadata": {},
   "outputs": [
    {
     "data": {
      "text/plain": [
       "(1118822, 35)"
      ]
     },
     "execution_count": 16,
     "metadata": {},
     "output_type": "execute_result"
    }
   ],
   "source": [
    "final.shape"
   ]
  },
  {
   "cell_type": "code",
   "execution_count": 12,
   "metadata": {},
   "outputs": [],
   "source": [
    "final.to_csv('/root/base_data/final_train_dropcolumns.csv')"
   ]
  },
  {
   "cell_type": "code",
   "execution_count": 15,
   "metadata": {},
   "outputs": [
    {
     "name": "stdout",
     "output_type": "stream",
     "text": [
      "Selected columns from test_data:\n",
      "      exclusive_area  contract_day  floor  construction_year  base_rate  \\\n",
      "0            79.9700          26.0    5.0             1987.0        3.5   \n",
      "1           108.2017          15.0   10.0             2021.0        3.5   \n",
      "2           161.0000          28.0   15.0             1984.0        3.5   \n",
      "3           133.4600          10.0   14.0             1984.0        3.5   \n",
      "4           104.4300          18.0    6.0             1984.0        3.5   \n",
      "...              ...           ...    ...                ...        ...   \n",
      "9267         84.6500          19.0   13.0             2014.0        3.5   \n",
      "9268         84.6200          25.0   12.0             2014.0        3.5   \n",
      "9269        101.6500          27.0   12.0             2014.0        3.5   \n",
      "9270         84.9400           2.0   18.0             2014.0        3.5   \n",
      "9271         84.6500           4.0   13.0             2014.0        3.5   \n",
      "\n",
      "      within_500m_bus  nearest_distance  within_250m  within_500m  \\\n",
      "0                12.0       1197.220431          0.0          0.0   \n",
      "1                15.0        271.035667          0.0          1.0   \n",
      "2                19.0        406.458725          0.0          1.0   \n",
      "3                19.0        406.458725          0.0          1.0   \n",
      "4                19.0        406.458725          0.0          1.0   \n",
      "...               ...               ...          ...          ...   \n",
      "9267             16.0        590.561054          0.0          0.0   \n",
      "9268             16.0        590.561054          0.0          0.0   \n",
      "9269             16.0        590.561054          0.0          0.0   \n",
      "9270             16.0        590.561054          0.0          0.0   \n",
      "9271             16.0        590.561054          0.0          0.0   \n",
      "\n",
      "      beyond_500m  ...  Libraries_By_District  Education_For_50+  \\\n",
      "0             1.0  ...                     54                  0   \n",
      "1             0.0  ...                     54                  0   \n",
      "2             0.0  ...                     54                  0   \n",
      "3             0.0  ...                     54                  0   \n",
      "4             0.0  ...                     54                  0   \n",
      "...           ...  ...                    ...                ...   \n",
      "9267          1.0  ...                     55                  0   \n",
      "9268          1.0  ...                     55                  0   \n",
      "9269          1.0  ...                     55                  0   \n",
      "9270          1.0  ...                     55                  0   \n",
      "9271          1.0  ...                     55                  0   \n",
      "\n",
      "      Policy_Planning_For_50+  Operation  Support  Community_Support  \\\n",
      "0                           0          0        0                  0   \n",
      "1                           0          0        0                  0   \n",
      "2                           0          0        0                  0   \n",
      "3                           0          0        0                  0   \n",
      "4                           0          0        0                  0   \n",
      "...                       ...        ...      ...                ...   \n",
      "9267                        0          0        0                  0   \n",
      "9268                        0          0        0                  0   \n",
      "9269                        0          0        0                  0   \n",
      "9270                        0          0        0                  0   \n",
      "9271                        0          0        0                  0   \n",
      "\n",
      "      Total_Bike_Racks_By_District  Total_Bike_Racks_By_Coordinate  \\\n",
      "0                           1754.0                             0.0   \n",
      "1                           1754.0                             0.0   \n",
      "2                           1754.0                             0.0   \n",
      "3                           1754.0                             0.0   \n",
      "4                           1754.0                             0.0   \n",
      "...                            ...                             ...   \n",
      "9267                        1008.0                             0.0   \n",
      "9268                        1008.0                             0.0   \n",
      "9269                        1008.0                             0.0   \n",
      "9270                        1008.0                             0.0   \n",
      "9271                        1008.0                             0.0   \n",
      "\n",
      "      Inflow_Population  Inflow_Population_Growth_Rate  \n",
      "0              46503964                          30.51  \n",
      "1              46503964                          30.51  \n",
      "2              46503964                          30.51  \n",
      "3              46503964                          30.51  \n",
      "4              46503964                          30.51  \n",
      "...                 ...                            ...  \n",
      "9267           13564310                          24.25  \n",
      "9268           13564310                          24.25  \n",
      "9269           13564310                          24.25  \n",
      "9270           13564310                          24.25  \n",
      "9271           13564310                          24.25  \n",
      "\n",
      "[9272 rows x 34 columns]\n"
     ]
    }
   ],
   "source": [
    "columns_to_select = [\n",
    "    'exclusive_area', 'contract_day', 'floor', 'construction_year', \n",
    "    'base_rate', 'within_500m_bus', 'nearest_distance', 'within_250m', 'within_500m', \n",
    "    'beyond_500m', 'distance_elementary', 'distance_middle', 'distance_elem50', \n",
    "    'distance_elem75', 'distance_elem100', 'distance_middle50', 'distance_middle75', \n",
    "    'distance_middle100', 'daechi_mokdong', 'contract_month', 'high_achivement', \n",
    "    'coordinate_x', 'coordinate_y', 'Libraries_By_Coordinate', 'Libraries_By_District', \n",
    "    'Education_For_50+', 'Policy_Planning_For_50+', 'Operation', 'Support', \n",
    "    'Community_Support', 'Total_Bike_Racks_By_District', 'Total_Bike_Racks_By_Coordinate', \n",
    "    'Inflow_Population', 'Inflow_Population_Growth_Rate'\n",
    "]\n",
    "\n",
    "# Select the specified columns\n",
    "selected_test_data = test_data[columns_to_select]\n",
    "\n",
    "# Display the result\n",
    "print(\"Selected columns from test_data:\")\n",
    "print(selected_test_data)\n"
   ]
  },
  {
   "cell_type": "code",
   "execution_count": 17,
   "metadata": {},
   "outputs": [],
   "source": [
    "selected_test_data.to_csv('/root/base_data/final_test_dropcolumns.csv')"
   ]
  },
  {
   "cell_type": "code",
   "execution_count": null,
   "metadata": {},
   "outputs": [],
   "source": []
  }
 ],
 "metadata": {
  "kernelspec": {
   "display_name": "venv",
   "language": "python",
   "name": "python3"
  },
  "language_info": {
   "codemirror_mode": {
    "name": "ipython",
    "version": 3
   },
   "file_extension": ".py",
   "mimetype": "text/x-python",
   "name": "python",
   "nbconvert_exporter": "python",
   "pygments_lexer": "ipython3",
   "version": "3.10.13"
  }
 },
 "nbformat": 4,
 "nbformat_minor": 2
}
