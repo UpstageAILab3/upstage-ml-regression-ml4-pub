{
 "cells": [
  {
   "cell_type": "code",
   "execution_count": null,
   "metadata": {},
   "outputs": [],
   "source": []
  },
  {
   "cell_type": "code",
   "execution_count": 9,
   "metadata": {},
   "outputs": [
    {
     "name": "stderr",
     "output_type": "stream",
     "text": [
      "/tmp/ipykernel_505709/4229198051.py:4: DtypeWarning: Columns (17) have mixed types. Specify dtype option on import or set low_memory=False.\n",
      "  train_df = pd.read_csv(file_path_train, encoding='utf-8')\n"
     ]
    }
   ],
   "source": [
    "import pandas as pd\n",
    "# 데이터 불러오기\n",
    "file_path_train = '/root/base_data/test_2_modified2_updated.csv'\n",
    "train_df = pd.read_csv(file_path_train, encoding='utf-8')\n",
    "\n",
    "\n",
    "final_coords_df=pd.read_csv('/root/base_data/최종위도경도.csv', encoding='utf-8')"
   ]
  },
  {
   "cell_type": "code",
   "execution_count": 10,
   "metadata": {},
   "outputs": [
    {
     "data": {
      "text/plain": [
       "(9272, 82)"
      ]
     },
     "execution_count": 10,
     "metadata": {},
     "output_type": "execute_result"
    }
   ],
   "source": [
    "train_df.shape"
   ]
  },
  {
   "cell_type": "code",
   "execution_count": 8,
   "metadata": {},
   "outputs": [
    {
     "data": {
      "text/plain": [
       "(9272, 51)"
      ]
     },
     "execution_count": 8,
     "metadata": {},
     "output_type": "execute_result"
    }
   ],
   "source": [
    "df.shape"
   ]
  },
  {
   "cell_type": "code",
   "execution_count": 11,
   "metadata": {},
   "outputs": [
    {
     "data": {
      "text/html": [
       "<div>\n",
       "<style scoped>\n",
       "    .dataframe tbody tr th:only-of-type {\n",
       "        vertical-align: middle;\n",
       "    }\n",
       "\n",
       "    .dataframe tbody tr th {\n",
       "        vertical-align: top;\n",
       "    }\n",
       "\n",
       "    .dataframe thead th {\n",
       "        text-align: right;\n",
       "    }\n",
       "</style>\n",
       "<table border=\"1\" class=\"dataframe\">\n",
       "  <thead>\n",
       "    <tr style=\"text-align: right;\">\n",
       "      <th></th>\n",
       "      <th>city_district</th>\n",
       "      <th>lot_number</th>\n",
       "      <th>main_number</th>\n",
       "      <th>sub_number</th>\n",
       "      <th>apartment_name</th>\n",
       "      <th>exclusive_area</th>\n",
       "      <th>contract_year_month</th>\n",
       "      <th>contract_day</th>\n",
       "      <th>floor</th>\n",
       "      <th>construction_year</th>\n",
       "      <th>...</th>\n",
       "      <th>distance_middle</th>\n",
       "      <th>distance_elem50</th>\n",
       "      <th>distance_elem75</th>\n",
       "      <th>distance_elem100</th>\n",
       "      <th>distance_middle50</th>\n",
       "      <th>distance_middle75</th>\n",
       "      <th>distance_middle100</th>\n",
       "      <th>daechi_mokdong</th>\n",
       "      <th>contract_month</th>\n",
       "      <th>high_achivement</th>\n",
       "    </tr>\n",
       "  </thead>\n",
       "  <tbody>\n",
       "    <tr>\n",
       "      <th>0</th>\n",
       "      <td>서울특별시 강남구 개포동</td>\n",
       "      <td>658-1</td>\n",
       "      <td>658.0</td>\n",
       "      <td>1.0</td>\n",
       "      <td>개포6차우성</td>\n",
       "      <td>79.9700</td>\n",
       "      <td>202307</td>\n",
       "      <td>26</td>\n",
       "      <td>5</td>\n",
       "      <td>1987</td>\n",
       "      <td>...</td>\n",
       "      <td>595.817686</td>\n",
       "      <td>0</td>\n",
       "      <td>0</td>\n",
       "      <td>1</td>\n",
       "      <td>0</td>\n",
       "      <td>1</td>\n",
       "      <td>0</td>\n",
       "      <td>0</td>\n",
       "      <td>0</td>\n",
       "      <td>0</td>\n",
       "    </tr>\n",
       "    <tr>\n",
       "      <th>1</th>\n",
       "      <td>서울특별시 강남구 개포동</td>\n",
       "      <td>651-1</td>\n",
       "      <td>651.0</td>\n",
       "      <td>1.0</td>\n",
       "      <td>개포더샵트리에</td>\n",
       "      <td>108.2017</td>\n",
       "      <td>202308</td>\n",
       "      <td>15</td>\n",
       "      <td>10</td>\n",
       "      <td>2021</td>\n",
       "      <td>...</td>\n",
       "      <td>111.901395</td>\n",
       "      <td>1</td>\n",
       "      <td>0</td>\n",
       "      <td>0</td>\n",
       "      <td>1</td>\n",
       "      <td>0</td>\n",
       "      <td>0</td>\n",
       "      <td>0</td>\n",
       "      <td>0</td>\n",
       "      <td>1</td>\n",
       "    </tr>\n",
       "    <tr>\n",
       "      <th>2</th>\n",
       "      <td>서울특별시 강남구 개포동</td>\n",
       "      <td>652</td>\n",
       "      <td>652.0</td>\n",
       "      <td>0.0</td>\n",
       "      <td>개포우성3차</td>\n",
       "      <td>161.0000</td>\n",
       "      <td>202307</td>\n",
       "      <td>28</td>\n",
       "      <td>15</td>\n",
       "      <td>1984</td>\n",
       "      <td>...</td>\n",
       "      <td>225.953458</td>\n",
       "      <td>1</td>\n",
       "      <td>0</td>\n",
       "      <td>0</td>\n",
       "      <td>1</td>\n",
       "      <td>0</td>\n",
       "      <td>0</td>\n",
       "      <td>0</td>\n",
       "      <td>0</td>\n",
       "      <td>1</td>\n",
       "    </tr>\n",
       "    <tr>\n",
       "      <th>3</th>\n",
       "      <td>서울특별시 강남구 개포동</td>\n",
       "      <td>652</td>\n",
       "      <td>652.0</td>\n",
       "      <td>0.0</td>\n",
       "      <td>개포우성3차</td>\n",
       "      <td>133.4600</td>\n",
       "      <td>202308</td>\n",
       "      <td>10</td>\n",
       "      <td>14</td>\n",
       "      <td>1984</td>\n",
       "      <td>...</td>\n",
       "      <td>225.953458</td>\n",
       "      <td>1</td>\n",
       "      <td>0</td>\n",
       "      <td>0</td>\n",
       "      <td>1</td>\n",
       "      <td>0</td>\n",
       "      <td>0</td>\n",
       "      <td>0</td>\n",
       "      <td>0</td>\n",
       "      <td>1</td>\n",
       "    </tr>\n",
       "    <tr>\n",
       "      <th>4</th>\n",
       "      <td>서울특별시 강남구 개포동</td>\n",
       "      <td>652</td>\n",
       "      <td>652.0</td>\n",
       "      <td>0.0</td>\n",
       "      <td>개포우성3차</td>\n",
       "      <td>104.4300</td>\n",
       "      <td>202308</td>\n",
       "      <td>18</td>\n",
       "      <td>6</td>\n",
       "      <td>1984</td>\n",
       "      <td>...</td>\n",
       "      <td>225.953458</td>\n",
       "      <td>1</td>\n",
       "      <td>0</td>\n",
       "      <td>0</td>\n",
       "      <td>1</td>\n",
       "      <td>0</td>\n",
       "      <td>0</td>\n",
       "      <td>0</td>\n",
       "      <td>0</td>\n",
       "      <td>1</td>\n",
       "    </tr>\n",
       "  </tbody>\n",
       "</table>\n",
       "<p>5 rows × 82 columns</p>\n",
       "</div>"
      ],
      "text/plain": [
       "   city_district lot_number  main_number  sub_number apartment_name  \\\n",
       "0  서울특별시 강남구 개포동      658-1        658.0         1.0         개포6차우성   \n",
       "1  서울특별시 강남구 개포동      651-1        651.0         1.0        개포더샵트리에   \n",
       "2  서울특별시 강남구 개포동        652        652.0         0.0         개포우성3차   \n",
       "3  서울특별시 강남구 개포동        652        652.0         0.0         개포우성3차   \n",
       "4  서울특별시 강남구 개포동        652        652.0         0.0         개포우성3차   \n",
       "\n",
       "   exclusive_area  contract_year_month  contract_day  floor  \\\n",
       "0         79.9700               202307            26      5   \n",
       "1        108.2017               202308            15     10   \n",
       "2        161.0000               202307            28     15   \n",
       "3        133.4600               202308            10     14   \n",
       "4        104.4300               202308            18      6   \n",
       "\n",
       "   construction_year  ... distance_middle  distance_elem50 distance_elem75  \\\n",
       "0               1987  ...      595.817686                0               0   \n",
       "1               2021  ...      111.901395                1               0   \n",
       "2               1984  ...      225.953458                1               0   \n",
       "3               1984  ...      225.953458                1               0   \n",
       "4               1984  ...      225.953458                1               0   \n",
       "\n",
       "  distance_elem100 distance_middle50 distance_middle75 distance_middle100  \\\n",
       "0                1                 0                 1                  0   \n",
       "1                0                 1                 0                  0   \n",
       "2                0                 1                 0                  0   \n",
       "3                0                 1                 0                  0   \n",
       "4                0                 1                 0                  0   \n",
       "\n",
       "  daechi_mokdong  contract_month high_achivement  \n",
       "0              0               0               0  \n",
       "1              0               0               1  \n",
       "2              0               0               1  \n",
       "3              0               0               1  \n",
       "4              0               0               1  \n",
       "\n",
       "[5 rows x 82 columns]"
      ]
     },
     "execution_count": 11,
     "metadata": {},
     "output_type": "execute_result"
    }
   ],
   "source": [
    "train_df.head()"
   ]
  },
  {
   "cell_type": "code",
   "execution_count": 12,
   "metadata": {},
   "outputs": [
    {
     "name": "stdout",
     "output_type": "stream",
     "text": [
      "결측치가 있는 행들:\n",
      "      city_district lot_number  main_number  sub_number apartment_name  \\\n",
      "113   서울특별시 강남구 개포동        189        189.0         0.0      개포자이프레지던스   \n",
      "114   서울특별시 강남구 개포동        185        185.0         0.0        개포주공7단지   \n",
      "115   서울특별시 강남구 개포동        185        185.0         0.0        개포주공7단지   \n",
      "116   서울특별시 강남구 개포동        185        185.0         0.0        개포주공7단지   \n",
      "117   서울특별시 강남구 개포동        185        185.0         0.0        개포주공7단지   \n",
      "...             ...        ...          ...         ...            ...   \n",
      "9253  서울특별시 중랑구 중화동        450        450.0         0.0             한신   \n",
      "9254  서울특별시 중랑구 중화동        450        450.0         0.0             한신   \n",
      "9255  서울특별시 중랑구 중화동        450        450.0         0.0             한신   \n",
      "9256  서울특별시 중랑구 중화동        450        450.0         0.0             한신   \n",
      "9257  서울특별시 중랑구 중화동        450        450.0         0.0             한신   \n",
      "\n",
      "      exclusive_area  contract_year_month  contract_day  floor  \\\n",
      "113            59.98               202307            25      5   \n",
      "114            73.26               202307             4      9   \n",
      "115            73.26               202307            27      8   \n",
      "116            53.46               202308            25     13   \n",
      "117            73.26               202308            26     13   \n",
      "...              ...                  ...           ...    ...   \n",
      "9253           59.76               202307            15     12   \n",
      "9254           59.76               202307            26     15   \n",
      "9255           50.37               202308             4      9   \n",
      "9256           59.76               202308            23      2   \n",
      "9257           50.37               202309             4     10   \n",
      "\n",
      "      construction_year  ... distance_middle  distance_elem50 distance_elem75  \\\n",
      "113                2023  ...             NaN                0               0   \n",
      "114                1983  ...             NaN                0               0   \n",
      "115                1983  ...             NaN                0               0   \n",
      "116                1983  ...             NaN                0               0   \n",
      "117                1983  ...             NaN                0               0   \n",
      "...                 ...  ...             ...              ...             ...   \n",
      "9253               1997  ...             NaN                0               0   \n",
      "9254               1997  ...             NaN                0               0   \n",
      "9255               1997  ...             NaN                0               0   \n",
      "9256               1997  ...             NaN                0               0   \n",
      "9257               1997  ...             NaN                0               0   \n",
      "\n",
      "     distance_elem100 distance_middle50 distance_middle75 distance_middle100  \\\n",
      "113                 0                 0                 0                  0   \n",
      "114                 0                 0                 0                  0   \n",
      "115                 0                 0                 0                  0   \n",
      "116                 0                 0                 0                  0   \n",
      "117                 0                 0                 0                  0   \n",
      "...               ...               ...               ...                ...   \n",
      "9253                0                 0                 0                  0   \n",
      "9254                0                 0                 0                  0   \n",
      "9255                0                 0                 0                  0   \n",
      "9256                0                 0                 0                  0   \n",
      "9257                0                 0                 0                  0   \n",
      "\n",
      "     daechi_mokdong  contract_month high_achivement  \n",
      "113               0               0               0  \n",
      "114               0               0               0  \n",
      "115               0               0               0  \n",
      "116               0               0               0  \n",
      "117               0               0               0  \n",
      "...             ...             ...             ...  \n",
      "9253              0               0               0  \n",
      "9254              0               0               0  \n",
      "9255              0               0               0  \n",
      "9256              0               0               0  \n",
      "9257              0               0               0  \n",
      "\n",
      "[6562 rows x 82 columns]\n",
      "결측치가 있는 행의 수: 6562\n"
     ]
    }
   ],
   "source": [
    "# 결측치가 있는 행 추출\n",
    "missing_values_df =train_df[train_df[['coordinate_x', 'coordinate_y']].isnull().any(axis=1)]\n",
    "\n",
    "# 결측치가 있는 행들 출력\n",
    "print(\"결측치가 있는 행들:\")\n",
    "print(missing_values_df)\n",
    "\n",
    "# 결측치가 있는 행 수 출력\n",
    "print(f\"결측치가 있는 행의 수: {missing_values_df.shape[0]}\")"
   ]
  },
  {
   "cell_type": "code",
   "execution_count": 13,
   "metadata": {},
   "outputs": [
    {
     "data": {
      "text/plain": [
       "Index(['city_district', 'lot_number', 'main_number', 'sub_number',\n",
       "       'apartment_name', 'exclusive_area', 'contract_year_month',\n",
       "       'contract_day', 'floor', 'construction_year', 'road_name',\n",
       "       'cancellation_reason_date', 'registration_application_date',\n",
       "       'transaction_type', 'broker_location', 'complex_classification',\n",
       "       'phone_number', 'fax_number', 'complex_description', 'household_type',\n",
       "       'management_type', 'corridor_type', 'heating_type', 'total_buildings',\n",
       "       'total_households', 'construction_company', 'developer',\n",
       "       'approval_date', 'gross_area', 'residential_area', 'maintenance_area',\n",
       "       'household_status_below_60sqm', 'household_status_60_to_85sqm',\n",
       "       'household_status_85_to_135sqm', 'household_status_above_135sqm',\n",
       "       'website', 'registration_date', 'modification_date',\n",
       "       'employment_insurance_number', 'security_management_type',\n",
       "       'electricity_contract_type', 'cleaning_management_type',\n",
       "       'building_area', 'parking_spaces', 'other_mandatory',\n",
       "       'complex_approval_date', 'usage_approval', 'maintenance_fee_upload',\n",
       "       'coordinate_x', 'coordinate_y', 'complex_application_date',\n",
       "       'rest_area_food', 'general_food', 'floor_log', 'cinema_distance',\n",
       "       'large_store_distance', 'government_bond_3yr', 'government_bond_5yr',\n",
       "       'government_bond_10yr', 'corporate_bond_3yr_aa_minus', 'cd_91_day',\n",
       "       'call_rate_1day_avg', 'base_rate', 'unique_key', 'within_500m_bus',\n",
       "       'nearest_distance', 'within_250m', 'within_500m', 'beyond_500m',\n",
       "       'nearest_elementary', 'nearest_middle', 'distance_elementary',\n",
       "       'distance_middle', 'distance_elem50', 'distance_elem75',\n",
       "       'distance_elem100', 'distance_middle50', 'distance_middle75',\n",
       "       'distance_middle100', 'daechi_mokdong', 'contract_month',\n",
       "       'high_achivement'],\n",
       "      dtype='object')"
      ]
     },
     "execution_count": 13,
     "metadata": {},
     "output_type": "execute_result"
    }
   ],
   "source": [
    "train_df.columns"
   ]
  },
  {
   "cell_type": "code",
   "execution_count": 14,
   "metadata": {},
   "outputs": [],
   "source": [
    "# train_df에서 기존 'unique_key' 컬럼 삭제\n",
    "train_df = train_df.drop(columns=['unique_key'], errors='ignore')\n",
    "\n",
    "# 새로운 'unique_key' 생성: 'city_district' + ' ' + 'lot_number'\n",
    "train_df['unique_key'] = train_df['city_district'] + ' ' + train_df['lot_number'].fillna('nan')\n"
   ]
  },
  {
   "cell_type": "code",
   "execution_count": 15,
   "metadata": {},
   "outputs": [
    {
     "data": {
      "text/plain": [
       "0"
      ]
     },
     "execution_count": 15,
     "metadata": {},
     "output_type": "execute_result"
    }
   ],
   "source": [
    "train_df['unique_key'].isnull().sum()"
   ]
  },
  {
   "cell_type": "code",
   "execution_count": 16,
   "metadata": {},
   "outputs": [
    {
     "data": {
      "text/plain": [
       "(9272, 82)"
      ]
     },
     "execution_count": 16,
     "metadata": {},
     "output_type": "execute_result"
    }
   ],
   "source": [
    "train_df.shape"
   ]
  },
  {
   "cell_type": "code",
   "execution_count": 33,
   "metadata": {},
   "outputs": [
    {
     "name": "stdout",
     "output_type": "stream",
     "text": [
      "Unmatched data:\n",
      "                unique_key address\n",
      "458   서울특별시 강남구 삼성동 142-16     NaN\n",
      "585    서울특별시 강남구 역삼동 712-5     NaN\n",
      "1173     서울특별시 강동구 천호동 578     NaN\n",
      "1174     서울특별시 강동구 천호동 578     NaN\n",
      "1274    서울특별시 강북구 번동 443-6     NaN\n"
     ]
    },
    {
     "name": "stderr",
     "output_type": "stream",
     "text": [
      "Processing rows:   0%|          | 0/73 [00:00<?, ?it/s]"
     ]
    },
    {
     "name": "stderr",
     "output_type": "stream",
     "text": [
      "Processing rows: 100%|██████████| 73/73 [00:04<00:00, 16.12it/s]\n"
     ]
    },
    {
     "name": "stdout",
     "output_type": "stream",
     "text": [
      "Fuzzy matched data:\n"
     ]
    },
    {
     "ename": "KeyError",
     "evalue": "\"None of [Index(['unique_key', 'address', 'Longitude', 'Latitude'], dtype='object')] are in the [columns]\"",
     "output_type": "error",
     "traceback": [
      "\u001b[0;31m---------------------------------------------------------------------------\u001b[0m",
      "\u001b[0;31mKeyError\u001b[0m                                  Traceback (most recent call last)",
      "Cell \u001b[0;32mIn[33], line 41\u001b[0m\n\u001b[1;32m     39\u001b[0m \u001b[38;5;66;03m# 매칭된 데이터 확인\u001b[39;00m\n\u001b[1;32m     40\u001b[0m \u001b[38;5;28mprint\u001b[39m(\u001b[38;5;124m\"\u001b[39m\u001b[38;5;124mFuzzy matched data:\u001b[39m\u001b[38;5;124m\"\u001b[39m)\n\u001b[0;32m---> 41\u001b[0m \u001b[38;5;28mprint\u001b[39m(\u001b[43mfuzzy_matched_df\u001b[49m\u001b[43m[\u001b[49m\u001b[43m[\u001b[49m\u001b[38;5;124;43m'\u001b[39;49m\u001b[38;5;124;43munique_key\u001b[39;49m\u001b[38;5;124;43m'\u001b[39;49m\u001b[43m,\u001b[49m\u001b[43m \u001b[49m\u001b[38;5;124;43m'\u001b[39;49m\u001b[38;5;124;43maddress\u001b[39;49m\u001b[38;5;124;43m'\u001b[39;49m\u001b[43m,\u001b[49m\u001b[43m \u001b[49m\u001b[38;5;124;43m'\u001b[39;49m\u001b[38;5;124;43mLongitude\u001b[39;49m\u001b[38;5;124;43m'\u001b[39;49m\u001b[43m,\u001b[49m\u001b[43m \u001b[49m\u001b[38;5;124;43m'\u001b[39;49m\u001b[38;5;124;43mLatitude\u001b[39;49m\u001b[38;5;124;43m'\u001b[39;49m\u001b[43m]\u001b[49m\u001b[43m]\u001b[49m\u001b[38;5;241m.\u001b[39mhead())  \u001b[38;5;66;03m# unique_key, address, Longitude, Latitude 컬럼 확인\u001b[39;00m\n\u001b[1;32m     43\u001b[0m \u001b[38;5;66;03m# 최종 병합 결과\u001b[39;00m\n\u001b[1;32m     44\u001b[0m merged_fuzzy_df \u001b[38;5;241m=\u001b[39m pd\u001b[38;5;241m.\u001b[39mconcat([merged_exact_df[\u001b[38;5;241m~\u001b[39mmerged_exact_df\u001b[38;5;241m.\u001b[39mindex\u001b[38;5;241m.\u001b[39misin(unmatched\u001b[38;5;241m.\u001b[39mindex)], fuzzy_matched_df])\n",
      "File \u001b[0;32m/root/venv/lib/python3.10/site-packages/pandas/core/frame.py:3813\u001b[0m, in \u001b[0;36mDataFrame.__getitem__\u001b[0;34m(self, key)\u001b[0m\n\u001b[1;32m   3811\u001b[0m     \u001b[38;5;28;01mif\u001b[39;00m is_iterator(key):\n\u001b[1;32m   3812\u001b[0m         key \u001b[38;5;241m=\u001b[39m \u001b[38;5;28mlist\u001b[39m(key)\n\u001b[0;32m-> 3813\u001b[0m     indexer \u001b[38;5;241m=\u001b[39m \u001b[38;5;28;43mself\u001b[39;49m\u001b[38;5;241;43m.\u001b[39;49m\u001b[43mcolumns\u001b[49m\u001b[38;5;241;43m.\u001b[39;49m\u001b[43m_get_indexer_strict\u001b[49m\u001b[43m(\u001b[49m\u001b[43mkey\u001b[49m\u001b[43m,\u001b[49m\u001b[43m \u001b[49m\u001b[38;5;124;43m\"\u001b[39;49m\u001b[38;5;124;43mcolumns\u001b[39;49m\u001b[38;5;124;43m\"\u001b[39;49m\u001b[43m)\u001b[49m[\u001b[38;5;241m1\u001b[39m]\n\u001b[1;32m   3815\u001b[0m \u001b[38;5;66;03m# take() does not accept boolean indexers\u001b[39;00m\n\u001b[1;32m   3816\u001b[0m \u001b[38;5;28;01mif\u001b[39;00m \u001b[38;5;28mgetattr\u001b[39m(indexer, \u001b[38;5;124m\"\u001b[39m\u001b[38;5;124mdtype\u001b[39m\u001b[38;5;124m\"\u001b[39m, \u001b[38;5;28;01mNone\u001b[39;00m) \u001b[38;5;241m==\u001b[39m \u001b[38;5;28mbool\u001b[39m:\n",
      "File \u001b[0;32m/root/venv/lib/python3.10/site-packages/pandas/core/indexes/base.py:6070\u001b[0m, in \u001b[0;36mIndex._get_indexer_strict\u001b[0;34m(self, key, axis_name)\u001b[0m\n\u001b[1;32m   6067\u001b[0m \u001b[38;5;28;01melse\u001b[39;00m:\n\u001b[1;32m   6068\u001b[0m     keyarr, indexer, new_indexer \u001b[38;5;241m=\u001b[39m \u001b[38;5;28mself\u001b[39m\u001b[38;5;241m.\u001b[39m_reindex_non_unique(keyarr)\n\u001b[0;32m-> 6070\u001b[0m \u001b[38;5;28;43mself\u001b[39;49m\u001b[38;5;241;43m.\u001b[39;49m\u001b[43m_raise_if_missing\u001b[49m\u001b[43m(\u001b[49m\u001b[43mkeyarr\u001b[49m\u001b[43m,\u001b[49m\u001b[43m \u001b[49m\u001b[43mindexer\u001b[49m\u001b[43m,\u001b[49m\u001b[43m \u001b[49m\u001b[43maxis_name\u001b[49m\u001b[43m)\u001b[49m\n\u001b[1;32m   6072\u001b[0m keyarr \u001b[38;5;241m=\u001b[39m \u001b[38;5;28mself\u001b[39m\u001b[38;5;241m.\u001b[39mtake(indexer)\n\u001b[1;32m   6073\u001b[0m \u001b[38;5;28;01mif\u001b[39;00m \u001b[38;5;28misinstance\u001b[39m(key, Index):\n\u001b[1;32m   6074\u001b[0m     \u001b[38;5;66;03m# GH 42790 - Preserve name from an Index\u001b[39;00m\n",
      "File \u001b[0;32m/root/venv/lib/python3.10/site-packages/pandas/core/indexes/base.py:6130\u001b[0m, in \u001b[0;36mIndex._raise_if_missing\u001b[0;34m(self, key, indexer, axis_name)\u001b[0m\n\u001b[1;32m   6128\u001b[0m     \u001b[38;5;28;01mif\u001b[39;00m use_interval_msg:\n\u001b[1;32m   6129\u001b[0m         key \u001b[38;5;241m=\u001b[39m \u001b[38;5;28mlist\u001b[39m(key)\n\u001b[0;32m-> 6130\u001b[0m     \u001b[38;5;28;01mraise\u001b[39;00m \u001b[38;5;167;01mKeyError\u001b[39;00m(\u001b[38;5;124mf\u001b[39m\u001b[38;5;124m\"\u001b[39m\u001b[38;5;124mNone of [\u001b[39m\u001b[38;5;132;01m{\u001b[39;00mkey\u001b[38;5;132;01m}\u001b[39;00m\u001b[38;5;124m] are in the [\u001b[39m\u001b[38;5;132;01m{\u001b[39;00maxis_name\u001b[38;5;132;01m}\u001b[39;00m\u001b[38;5;124m]\u001b[39m\u001b[38;5;124m\"\u001b[39m)\n\u001b[1;32m   6132\u001b[0m not_found \u001b[38;5;241m=\u001b[39m \u001b[38;5;28mlist\u001b[39m(ensure_index(key)[missing_mask\u001b[38;5;241m.\u001b[39mnonzero()[\u001b[38;5;241m0\u001b[39m]]\u001b[38;5;241m.\u001b[39munique())\n\u001b[1;32m   6133\u001b[0m \u001b[38;5;28;01mraise\u001b[39;00m \u001b[38;5;167;01mKeyError\u001b[39;00m(\u001b[38;5;124mf\u001b[39m\u001b[38;5;124m\"\u001b[39m\u001b[38;5;132;01m{\u001b[39;00mnot_found\u001b[38;5;132;01m}\u001b[39;00m\u001b[38;5;124m not in index\u001b[39m\u001b[38;5;124m\"\u001b[39m)\n",
      "\u001b[0;31mKeyError\u001b[0m: \"None of [Index(['unique_key', 'address', 'Longitude', 'Latitude'], dtype='object')] are in the [columns]\""
     ]
    }
   ],
   "source": [
    "'''import pandas as pd\n",
    "from fuzzywuzzy import fuzz, process\n",
    "from tqdm import tqdm\n",
    "\n",
    "# 예제 데이터프레임 (train_df와 final_coords_df가 있다고 가정)\n",
    "# train_df = pd.read_csv('your_train_data.csv')\n",
    "# final_coords_df = pd.read_csv('your_coords_data.csv')\n",
    "\n",
    "# 정확히 일치하는 항목을 먼저 병합\n",
    "merged_exact_df = pd.merge(\n",
    "    train_df,\n",
    "    final_coords_df[['address', 'Longitude', 'Latitude']],\n",
    "    left_on='unique_key',\n",
    "    right_on='address',\n",
    "    how='left'\n",
    ")\n",
    "\n",
    "# 유사 문자열 매칭을 위한 함수\n",
    "def merge_fuzzy(df_1, df_2, key1, key2, threshold=95):\n",
    "    matched_rows = []\n",
    "    for index, row in tqdm(df_1.iterrows(), total=df_1.shape[0], desc=\"Processing rows\"):\n",
    "        match = process.extractOne(row[key1], df_2[key2], scorer=fuzz.token_sort_ratio)\n",
    "        if match and match[1] >= threshold:\n",
    "            matched_row = df_2[df_2[key2] == match[0]]\n",
    "            matched_row = matched_row.assign(**row)\n",
    "            matched_rows.append(matched_row)\n",
    "    return pd.concat(matched_rows, ignore_index=True) if matched_rows else pd.DataFrame()\n",
    "\n",
    "# 정확히 일치하지 않은 항목들에 대해 유사도 매칭 수행\n",
    "unmatched = merged_exact_df[merged_exact_df['Longitude'].isnull() & merged_exact_df['Latitude'].isnull()]\n",
    "\n",
    "# unmatched 데이터 확인\n",
    "print(\"Unmatched data:\")\n",
    "print(unmatched[['unique_key', 'address']].head())  # unique_key와 address 컬럼만 확인\n",
    "\n",
    "# 유사도 매칭을 통한 병합\n",
    "fuzzy_matched_df = merge_fuzzy(unmatched, final_coords_df, 'unique_key', 'address')\n",
    "\n",
    "# 매칭된 데이터 확인\n",
    "print(\"Fuzzy matched data:\")\n",
    "print(fuzzy_matched_df[['unique_key', 'address', 'Longitude', 'Latitude']].head())  # unique_key, address, Longitude, Latitude 컬럼 확인\n",
    "\n",
    "# 최종 병합 결과\n",
    "merged_fuzzy_df = pd.concat([merged_exact_df[~merged_exact_df.index.isin(unmatched.index)], fuzzy_matched_df])\n",
    "\n",
    "# 유사도 매칭 과정에서 누락된 데이터 확인\n",
    "print(f\"Initial unmatched count: {unmatched.shape[0]}\")\n",
    "print(f\"Fuzzy matched count: {fuzzy_matched_df.shape[0]}\")\n",
    "print(f\"Remaining unmatched count after fuzzy matching: {unmatched.shape[0] - fuzzy_matched_df.shape[0]}\")\n",
    "\n",
    "# 결과 출력\n",
    "print(\"Merged fuzzy df head:\")\n",
    "print(merged_fuzzy_df.head())\n",
    "\n",
    "# 결측치가 있는 행 추출\n",
    "missing_values_df = merged_fuzzy_df[merged_fuzzy_df[['Longitude', 'Latitude']].isnull().any(axis=1)]\n",
    "\n",
    "# 결측치가 있는 행들 출력\n",
    "print(\"결측치가 있는 행들:\")\n",
    "print(missing_values_df)\n",
    "\n",
    "# 결측치가 있는 행 수 출력\n",
    "print(f\"결측치가 있는 행의 수: {missing_values_df.shape[0]}\")\n",
    "'''"
   ]
  },
  {
   "cell_type": "code",
   "execution_count": 47,
   "metadata": {},
   "outputs": [
    {
     "name": "stdout",
     "output_type": "stream",
     "text": [
      "Merged exact data frame:\n",
      "   city_district lot_number  main_number  sub_number apartment_name  \\\n",
      "0  서울특별시 강남구 개포동      658-1        658.0         1.0         개포6차우성   \n",
      "1  서울특별시 강남구 개포동      651-1        651.0         1.0        개포더샵트리에   \n",
      "2  서울특별시 강남구 개포동        652        652.0         0.0         개포우성3차   \n",
      "3  서울특별시 강남구 개포동        652        652.0         0.0         개포우성3차   \n",
      "4  서울특별시 강남구 개포동        652        652.0         0.0         개포우성3차   \n",
      "\n",
      "   exclusive_area  contract_year_month  contract_day  floor  \\\n",
      "0         79.9700               202307            26      5   \n",
      "1        108.2017               202308            15     10   \n",
      "2        161.0000               202307            28     15   \n",
      "3        133.4600               202308            10     14   \n",
      "4        104.4300               202308            18      6   \n",
      "\n",
      "   construction_year  ... distance_elem50  distance_elem75 distance_elem100  \\\n",
      "0               1987  ...               0                0                1   \n",
      "1               2021  ...               1                0                0   \n",
      "2               1984  ...               1                0                0   \n",
      "3               1984  ...               1                0                0   \n",
      "4               1984  ...               1                0                0   \n",
      "\n",
      "  distance_middle50 distance_middle75 distance_middle100 daechi_mokdong  \\\n",
      "0                 0                 1                  0              0   \n",
      "1                 1                 0                  0              0   \n",
      "2                 1                 0                  0              0   \n",
      "3                 1                 0                  0              0   \n",
      "4                 1                 0                  0              0   \n",
      "\n",
      "  contract_month  high_achivement           unique_key  \n",
      "0              0                0  서울특별시 강남구 개포동 658-1  \n",
      "1              0                1  서울특별시 강남구 개포동 651-1  \n",
      "2              0                1    서울특별시 강남구 개포동 652  \n",
      "3              0                1    서울특별시 강남구 개포동 652  \n",
      "4              0                1    서울특별시 강남구 개포동 652  \n",
      "\n",
      "[5 rows x 82 columns]\n",
      "73\n"
     ]
    }
   ],
   "source": [
    "import pandas as pd\n",
    "\n",
    "# 예제 데이터프레임 (train_df와 final_coords_df가 있다고 가정)\n",
    "# train_df = pd.read_csv('your_train_data.csv')\n",
    "# final_coords_df = pd.read_csv('your_coords_data.csv')\n",
    "\n",
    "# 정확히 일치하는 항목을 병합\n",
    "merged_exact_df = pd.merge(\n",
    "    train_df,\n",
    "    final_coords_df[['address', 'Longitude', 'Latitude']],\n",
    "    left_on='unique_key',\n",
    "    right_on='address',\n",
    "    how='left'\n",
    ")\n",
    "\n",
    "# 병합 결과에서 Longitude를 coordinate_x로, Latitude를 coordinate_y로 변경\n",
    "merged_exact_df['coordinate_x'] = merged_exact_df['Longitude']\n",
    "merged_exact_df['coordinate_y'] = merged_exact_df['Latitude']\n",
    "\n",
    "# 필요 없는 컬럼 삭제\n",
    "merged_exact_df.drop(columns=['Longitude', 'Latitude', 'address'], inplace=True)\n",
    "\n",
    "# 병합 결과 확인\n",
    "print(\"Merged exact data frame:\")\n",
    "print(merged_exact_df.head())\n",
    "\n",
    "print(merged_exact_df['coordinate_x'].isnull().sum())"
   ]
  },
  {
   "cell_type": "code",
   "execution_count": 49,
   "metadata": {},
   "outputs": [
    {
     "name": "stdout",
     "output_type": "stream",
     "text": [
      "Rows with missing values:\n",
      "       city_district lot_number  main_number  sub_number apartment_name  \\\n",
      "458    서울특별시 강남구 삼성동     142-16        142.0        16.0           한양립스   \n",
      "585    서울특별시 강남구 역삼동      712-5        712.0         5.0    역삼센트럴2차아이파크   \n",
      "1173   서울특별시 강동구 천호동        578        578.0         0.0        힐데스하임천호   \n",
      "1174   서울특별시 강동구 천호동        578        578.0         0.0        힐데스하임천호   \n",
      "1274    서울특별시 강북구 번동      443-6        443.0         6.0       아츠스테이수유점   \n",
      "...              ...        ...          ...         ...            ...   \n",
      "4738   서울특별시 마포구 신수동      400-1        400.0         1.0        신수동르끌레브   \n",
      "6087   서울특별시 성동구 송정동       67-5         67.0         5.0      히페리온리버팰리스   \n",
      "8880  서울특별시 중구 인현동2가        240        240.0         0.0     세운푸르지오헤리시티   \n",
      "8881  서울특별시 중구 인현동2가        240        240.0         0.0     세운푸르지오헤리시티   \n",
      "9050    서울특별시 중구 입정동        277        277.0         0.0  힐스테이트세운센트럴1단지   \n",
      "\n",
      "      exclusive_area  contract_year_month  contract_day  floor  \\\n",
      "458          38.2471               202309             5      6   \n",
      "585          19.6850               202307            27      5   \n",
      "1173         84.9600               202307            24      4   \n",
      "1174         84.9900               202308            17      2   \n",
      "1274         16.9300               202308            21      6   \n",
      "...              ...                  ...           ...    ...   \n",
      "4738         49.5400               202308             4      1   \n",
      "6087         83.4530               202309             4      2   \n",
      "8880         28.4064               202307            15     10   \n",
      "8881         24.5533               202307            21     17   \n",
      "9050         25.0654               202307            25     17   \n",
      "\n",
      "      construction_year  ... distance_elem50  distance_elem75  \\\n",
      "458                2022  ...               0                0   \n",
      "585                2022  ...               0                0   \n",
      "1173               2022  ...               0                0   \n",
      "1174               2022  ...               0                0   \n",
      "1274               2013  ...               0                0   \n",
      "...                 ...  ...             ...              ...   \n",
      "4738               2023  ...               0                0   \n",
      "6087               2022  ...               0                0   \n",
      "8880               2023  ...               0                0   \n",
      "8881               2023  ...               0                0   \n",
      "9050               2023  ...               0                0   \n",
      "\n",
      "     distance_elem100 distance_middle50 distance_middle75 distance_middle100  \\\n",
      "458                 0                 0                 0                  0   \n",
      "585                 0                 0                 0                  0   \n",
      "1173                0                 0                 0                  0   \n",
      "1174                0                 0                 0                  0   \n",
      "1274                0                 0                 0                  0   \n",
      "...               ...               ...               ...                ...   \n",
      "4738                0                 0                 0                  0   \n",
      "6087                0                 0                 0                  0   \n",
      "8880                1                 1                 0                  0   \n",
      "8881                1                 1                 0                  0   \n",
      "9050                0                 0                 0                  0   \n",
      "\n",
      "     daechi_mokdong contract_month  high_achivement            unique_key  \n",
      "458               0              0                0  서울특별시 강남구 삼성동 142-16  \n",
      "585               0              0                0   서울특별시 강남구 역삼동 712-5  \n",
      "1173              0              0                0     서울특별시 강동구 천호동 578  \n",
      "1174              0              0                0     서울특별시 강동구 천호동 578  \n",
      "1274              0              0                0    서울특별시 강북구 번동 443-6  \n",
      "...             ...            ...              ...                   ...  \n",
      "4738              0              0                0   서울특별시 마포구 신수동 400-1  \n",
      "6087              0              0                0    서울특별시 성동구 송정동 67-5  \n",
      "8880              0              0                0    서울특별시 중구 인현동2가 240  \n",
      "8881              0              0                0    서울특별시 중구 인현동2가 240  \n",
      "9050              0              0                0      서울특별시 중구 입정동 277  \n",
      "\n",
      "[73 rows x 82 columns]\n",
      "Number of rows with missing values: 73\n",
      "0\n"
     ]
    }
   ],
   "source": [
    "# 결측치가 있는 행 추출\n",
    "missing_values_df = merged_exact_df[merged_exact_df[['coordinate_x', 'coordinate_y']].isnull().any(axis=1)]\n",
    "\n",
    "# 결측치가 있는 행들 출력\n",
    "print(\"Rows with missing values:\")\n",
    "print(missing_values_df)\n",
    "\n",
    "# 결측치가 있는 행 수 출력\n",
    "print(f\"Number of rows with missing values: {missing_values_df.shape[0]}\")\n",
    "\n",
    "print(missing_values_df['lot_number'].isnull().sum())"
   ]
  },
  {
   "cell_type": "code",
   "execution_count": null,
   "metadata": {},
   "outputs": [],
   "source": [
    "from geopy.geocoders import Nominatim\n",
    "import time\n",
    "# Geopy를 사용하여 결측치 채우기\n",
    "geolocator = Nominatim(user_agent=\"geoapiExercises\")\n",
    "\n",
    "def get_lat_lon(row):\n",
    "    address = f\"{row['city_district']} {row['lot_number']}\"\n",
    "    try:\n",
    "        location = geolocator.geocode(address)\n",
    "        if location:\n",
    "            return pd.Series([location.latitude, location.longitude])\n",
    "    except Exception as e:\n",
    "        print(f\"Error geocoding {address}: {e}\")\n",
    "    return pd.Series([None, None])\n",
    "\n",
    "# 결측치가 있는 행에 대해 위도 및 경도 얻어내기\n",
    "missing_values_df[['coordinate_y', 'coordinate_x']] = missing_values_df.apply(get_lat_lon, axis=1)\n",
    "\n",
    "# 원래 데이터프레임에 결측치 채운 값 병합\n",
    "merged_exact_df.update(missing_values_df)\n",
    "\n",
    "# 결과 출력\n",
    "print(\"Updated data frame with filled missing values:\")\n",
    "print(merged_exact_df)\n",
    "\n",
    "# 결측치가 있는 행 수 다시 출력\n",
    "missing_values_df = merged_exact_df[merged_exact_df[['coordinate_x', 'coordinate_y']].isnull().any(axis=1)]\n",
    "print(f\"Number of rows with missing values after geocoding: {missing_values_df.shape[0]}\")"
   ]
  },
  {
   "cell_type": "markdown",
   "metadata": {},
   "source": []
  },
  {
   "cell_type": "code",
   "execution_count": 56,
   "metadata": {},
   "outputs": [
    {
     "data": {
      "text/plain": [
       "(9272, 82)"
      ]
     },
     "execution_count": 56,
     "metadata": {},
     "output_type": "execute_result"
    }
   ],
   "source": [
    "merged_exact_df.shape"
   ]
  },
  {
   "cell_type": "code",
   "execution_count": 55,
   "metadata": {},
   "outputs": [],
   "source": [
    "merged_exact_df.to_csv('/root/code/test_2_modified2_updated(test_shape해결_결측치0).csv')"
   ]
  },
  {
   "cell_type": "code",
   "execution_count": 34,
   "metadata": {},
   "outputs": [
    {
     "name": "stderr",
     "output_type": "stream",
     "text": [
      "Processing rows:   0%|          | 0/73 [00:00<?, ?it/s]"
     ]
    },
    {
     "name": "stderr",
     "output_type": "stream",
     "text": [
      "Processing rows: 100%|██████████| 73/73 [00:04<00:00, 16.01it/s]\n"
     ]
    },
    {
     "name": "stdout",
     "output_type": "stream",
     "text": [
      "Empty DataFrame\n",
      "Columns: []\n",
      "Index: []\n",
      "city_district       0\n",
      "lot_number          2\n",
      "main_number         0\n",
      "sub_number          0\n",
      "apartment_name     10\n",
      "                   ..\n",
      "high_achivement     0\n",
      "unique_key          0\n",
      "address             0\n",
      "Longitude           0\n",
      "Latitude            0\n",
      "Length: 85, dtype: int64\n"
     ]
    }
   ],
   "source": [
    "'''import pandas as pd\n",
    "from fuzzywuzzy import fuzz, process\n",
    "from tqdm import tqdm\n",
    "\n",
    "# 정확히 일치하는 항목을 먼저 병합\n",
    "merged_exact_df = pd.merge(\n",
    "    train_df,\n",
    "    final_coords_df[['address', 'Longitude', 'Latitude']],\n",
    "    left_on='unique_key',\n",
    "    right_on='address',\n",
    "    how='left'\n",
    ")\n",
    "\n",
    "# 유사 문자열 매칭을 위한 함수\n",
    "def merge_fuzzy(df_1, df_2, key1, key2, threshold=95):\n",
    "    matched_rows = []\n",
    "    for index, row in tqdm(df_1.iterrows(), total=df_1.shape[0], desc=\"Processing rows\"):\n",
    "        match = process.extractOne(row[key1], df_2[key2], scorer=fuzz.token_sort_ratio)\n",
    "        if match and match[1] >= threshold:\n",
    "            matched_row = df_2[df_2[key2] == match[0]]\n",
    "            matched_row = matched_row.assign(**row)\n",
    "            matched_rows.append(matched_row)\n",
    "    return pd.concat(matched_rows, ignore_index=True) if matched_rows else pd.DataFrame()\n",
    "\n",
    "# 정확히 일치하지 않은 항목들에 대해 유사도 매칭 수행\n",
    "unmatched = merged_exact_df[merged_exact_df['Longitude'].isnull() & merged_exact_df['Latitude'].isnull()]\n",
    "# 유사도 매칭을 통한 병합\n",
    "fuzzy_matched_df = merge_fuzzy(unmatched, final_coords_df, 'unique_key', 'address')\n",
    "print(fuzzy_matched_df)\n",
    "# 최종 병합 결과\n",
    "merged_fuzzy_df = pd.concat([merged_exact_df[~merged_exact_df.index.isin(unmatched.index)], fuzzy_matched_df])\n",
    "'''\n"
   ]
  },
  {
   "cell_type": "markdown",
   "metadata": {},
   "source": []
  },
  {
   "cell_type": "code",
   "execution_count": 39,
   "metadata": {},
   "outputs": [
    {
     "name": "stdout",
     "output_type": "stream",
     "text": [
      "6491\n",
      "(9199, 85)\n"
     ]
    }
   ],
   "source": [
    "print(merged_fuzzy_df['coordinate_x'].isnull().sum())\n",
    "print(merged_fuzzy_df.shape)"
   ]
  },
  {
   "cell_type": "code",
   "execution_count": 32,
   "metadata": {},
   "outputs": [
    {
     "name": "stdout",
     "output_type": "stream",
     "text": [
      "6491\n"
     ]
    }
   ],
   "source": [
    "# 결과 출력\n",
    "print(merged_fuzzy_df['coordinate_x'].isnull().sum())\n",
    "\n",
    "# 결측치가 있는 행 추출\n",
    "missing_values_df = merged_fuzzy_df[merged_fuzzy_df[['Longitude', 'Latitude']].isnull().any(axis=1)]"
   ]
  },
  {
   "cell_type": "code",
   "execution_count": 18,
   "metadata": {},
   "outputs": [
    {
     "data": {
      "text/plain": [
       "(9199, 85)"
      ]
     },
     "execution_count": 18,
     "metadata": {},
     "output_type": "execute_result"
    }
   ],
   "source": [
    "merged_fuzzy_df.shape"
   ]
  },
  {
   "cell_type": "code",
   "execution_count": 132,
   "metadata": {},
   "outputs": [
    {
     "data": {
      "text/plain": [
       "city_district        0\n",
       "lot_number           2\n",
       "main_number          0\n",
       "sub_number           0\n",
       "apartment_name      10\n",
       "                    ..\n",
       "unique_key           0\n",
       "unique_key_clean     0\n",
       "address              0\n",
       "Longitude            0\n",
       "Latitude             0\n",
       "Length: 86, dtype: int64"
      ]
     },
     "execution_count": 132,
     "metadata": {},
     "output_type": "execute_result"
    }
   ],
   "source": [
    "merged_fuzzy_df.isnull().sum()"
   ]
  },
  {
   "cell_type": "code",
   "execution_count": 133,
   "metadata": {},
   "outputs": [],
   "source": [
    "merged_fuzzy_df.to_csv('/root/code/test_2_modified2_updated(위도_경도_결측치0).csv', index=False)"
   ]
  },
  {
   "cell_type": "code",
   "execution_count": 134,
   "metadata": {},
   "outputs": [
    {
     "data": {
      "text/plain": [
       "Index(['city_district', 'lot_number', 'main_number', 'sub_number',\n",
       "       'apartment_name', 'exclusive_area', 'contract_year_month',\n",
       "       'contract_day', 'floor', 'construction_year', 'road_name',\n",
       "       'cancellation_reason_date', 'registration_application_date',\n",
       "       'transaction_type', 'broker_location', 'complex_classification',\n",
       "       'phone_number', 'fax_number', 'complex_description', 'household_type',\n",
       "       'management_type', 'corridor_type', 'heating_type', 'total_buildings',\n",
       "       'total_households', 'construction_company', 'developer',\n",
       "       'approval_date', 'gross_area', 'residential_area', 'maintenance_area',\n",
       "       'household_status_below_60sqm', 'household_status_60_to_85sqm',\n",
       "       'household_status_85_to_135sqm', 'household_status_above_135sqm',\n",
       "       'website', 'registration_date', 'modification_date',\n",
       "       'employment_insurance_number', 'security_management_type',\n",
       "       'electricity_contract_type', 'cleaning_management_type',\n",
       "       'building_area', 'parking_spaces', 'other_mandatory',\n",
       "       'complex_approval_date', 'usage_approval', 'maintenance_fee_upload',\n",
       "       'coordinate_x', 'coordinate_y', 'complex_application_date',\n",
       "       'rest_area_food', 'general_food', 'floor_log', 'cinema_distance',\n",
       "       'large_store_distance', 'government_bond_3yr', 'government_bond_5yr',\n",
       "       'government_bond_10yr', 'corporate_bond_3yr_aa_minus', 'cd_91_day',\n",
       "       'call_rate_1day_avg', 'base_rate', 'within_500m_bus',\n",
       "       'nearest_distance', 'within_250m', 'within_500m', 'beyond_500m',\n",
       "       'nearest_elementary', 'nearest_middle', 'distance_elementary',\n",
       "       'distance_middle', 'distance_elem50', 'distance_elem75',\n",
       "       'distance_elem100', 'distance_middle50', 'distance_middle75',\n",
       "       'distance_middle100', 'daechi_mokdong', 'contract_month',\n",
       "       'high_achivement', 'unique_key', 'unique_key_clean', 'address',\n",
       "       'Longitude', 'Latitude'],\n",
       "      dtype='object')"
      ]
     },
     "execution_count": 134,
     "metadata": {},
     "output_type": "execute_result"
    }
   ],
   "source": [
    "merged_fuzzy_df.columns"
   ]
  },
  {
   "cell_type": "code",
   "execution_count": 135,
   "metadata": {},
   "outputs": [
    {
     "data": {
      "text/plain": [
       "0"
      ]
     },
     "execution_count": 135,
     "metadata": {},
     "output_type": "execute_result"
    }
   ],
   "source": [
    "merged_fuzzy_df['within_250m'].isnull().sum()"
   ]
  },
  {
   "cell_type": "code",
   "execution_count": 114,
   "metadata": {},
   "outputs": [
    {
     "name": "stdout",
     "output_type": "stream",
     "text": [
      "결측치가 있는 행들:\n",
      "       city_district lot_number  main_number  sub_number apartment_name  \\\n",
      "458    서울특별시 강남구 삼성동     142-16        142.0        16.0           한양립스   \n",
      "585    서울특별시 강남구 역삼동      712-5        712.0         5.0    역삼센트럴2차아이파크   \n",
      "1173   서울특별시 강동구 천호동        578        578.0         0.0        힐데스하임천호   \n",
      "1174   서울특별시 강동구 천호동        578        578.0         0.0        힐데스하임천호   \n",
      "1274    서울특별시 강북구 번동      443-6        443.0         6.0       아츠스테이수유점   \n",
      "...              ...        ...          ...         ...            ...   \n",
      "4738   서울특별시 마포구 신수동      400-1        400.0         1.0        신수동르끌레브   \n",
      "6087   서울특별시 성동구 송정동       67-5         67.0         5.0      히페리온리버팰리스   \n",
      "8880  서울특별시 중구 인현동2가        240        240.0         0.0     세운푸르지오헤리시티   \n",
      "8881  서울특별시 중구 인현동2가        240        240.0         0.0     세운푸르지오헤리시티   \n",
      "9050    서울특별시 중구 입정동        277        277.0         0.0  힐스테이트세운센트럴1단지   \n",
      "\n",
      "      exclusive_area  contract_year_month  contract_day  floor  \\\n",
      "458          38.2471               202309             5      6   \n",
      "585          19.6850               202307            27      5   \n",
      "1173         84.9600               202307            24      4   \n",
      "1174         84.9900               202308            17      2   \n",
      "1274         16.9300               202308            21      6   \n",
      "...              ...                  ...           ...    ...   \n",
      "4738         49.5400               202308             4      1   \n",
      "6087         83.4530               202309             4      2   \n",
      "8880         28.4064               202307            15     10   \n",
      "8881         24.5533               202307            21     17   \n",
      "9050         25.0654               202307            25     17   \n",
      "\n",
      "      construction_year  ... distance_middle75  distance_middle100  \\\n",
      "458                2022  ...                 0                   0   \n",
      "585                2022  ...                 0                   0   \n",
      "1173               2022  ...                 0                   0   \n",
      "1174               2022  ...                 0                   0   \n",
      "1274               2013  ...                 0                   0   \n",
      "...                 ...  ...               ...                 ...   \n",
      "4738               2023  ...                 0                   0   \n",
      "6087               2022  ...                 0                   0   \n",
      "8880               2023  ...                 0                   0   \n",
      "8881               2023  ...                 0                   0   \n",
      "9050               2023  ...                 0                   0   \n",
      "\n",
      "     daechi_mokdong contract_month high_achivement            unique_key  \\\n",
      "458               0              0               0  서울특별시 강남구 삼성동 142-16   \n",
      "585               0              0               0   서울특별시 강남구 역삼동 712-5   \n",
      "1173              0              0               0     서울특별시 강동구 천호동 578   \n",
      "1174              0              0               0     서울특별시 강동구 천호동 578   \n",
      "1274              0              0               0    서울특별시 강북구 번동 443-6   \n",
      "...             ...            ...             ...                   ...   \n",
      "4738              0              0               0   서울특별시 마포구 신수동 400-1   \n",
      "6087              0              0               0    서울특별시 성동구 송정동 67-5   \n",
      "8880              0              0               0    서울특별시 중구 인현동2가 240   \n",
      "8881              0              0               0    서울특별시 중구 인현동2가 240   \n",
      "9050              0              0               0      서울특별시 중구 입정동 277   \n",
      "\n",
      "          unique_key_clean address_clean  Longitude Latitude  \n",
      "458   서울특별시 강남구 삼성동 142-16           NaN        NaN      NaN  \n",
      "585    서울특별시 강남구 역삼동 712-5           NaN        NaN      NaN  \n",
      "1173     서울특별시 강동구 천호동 578           NaN        NaN      NaN  \n",
      "1174     서울특별시 강동구 천호동 578           NaN        NaN      NaN  \n",
      "1274    서울특별시 강북구 번동 443-6           NaN        NaN      NaN  \n",
      "...                    ...           ...        ...      ...  \n",
      "4738   서울특별시 마포구 신수동 400-1           NaN        NaN      NaN  \n",
      "6087    서울특별시 성동구 송정동 67-5           NaN        NaN      NaN  \n",
      "8880    서울특별시 중구 인현동2가 240           NaN        NaN      NaN  \n",
      "8881    서울특별시 중구 인현동2가 240           NaN        NaN      NaN  \n",
      "9050      서울특별시 중구 입정동 277           NaN        NaN      NaN  \n",
      "\n",
      "[73 rows x 86 columns]\n",
      "결측치가 있는 행의 수: 73\n"
     ]
    }
   ],
   "source": [
    "# 결측치가 있는 행 추출\n",
    "missing_values_df = merged_df[merged_df[['Longitude', 'Latitude']].isnull().any(axis=1)]\n",
    "\n",
    "# 결측치가 있는 행들 출력\n",
    "print(\"결측치가 있는 행들:\")\n",
    "print(missing_values_df)\n",
    "\n",
    "# 결측치가 있는 행 수 출력\n",
    "print(f\"결측치가 있는 행의 수: {missing_values_df.shape[0]}\")"
   ]
  },
  {
   "cell_type": "code",
   "execution_count": 120,
   "metadata": {},
   "outputs": [
    {
     "name": "stdout",
     "output_type": "stream",
     "text": [
      "서울특별시 중랑구 중화동이 포함된 address 행들:\n",
      "Empty DataFrame\n",
      "Columns: [address, Latitude, Longitude, address_clean]\n",
      "Index: []\n"
     ]
    }
   ],
   "source": [
    "# 'address' 열에 '서울특별시 중랑구 중화동'이 포함된 행들 찾기\n",
    "filtered_data = final_coords_df[final_coords_df['address'].str.contains('강남구 삼성동 142', na=False)]\n",
    "\n",
    "# 필터링된 데이터 출력\n",
    "print(\"서울특별시 중랑구 중화동이 포함된 address 행들:\")\n",
    "print(filtered_data)"
   ]
  },
  {
   "cell_type": "code",
   "execution_count": 89,
   "metadata": {},
   "outputs": [],
   "source": [
    "# 병합된 데이터프레임을 새로운 CSV 파일로 저장\n",
    "merged_df.to_csv('/root/code/train_2_modified2_updated(위도_경도_결측치0).csv', index=False)\n"
   ]
  },
  {
   "cell_type": "code",
   "execution_count": 73,
   "metadata": {},
   "outputs": [
    {
     "data": {
      "text/html": [
       "<div>\n",
       "<style scoped>\n",
       "    .dataframe tbody tr th:only-of-type {\n",
       "        vertical-align: middle;\n",
       "    }\n",
       "\n",
       "    .dataframe tbody tr th {\n",
       "        vertical-align: top;\n",
       "    }\n",
       "\n",
       "    .dataframe thead th {\n",
       "        text-align: right;\n",
       "    }\n",
       "</style>\n",
       "<table border=\"1\" class=\"dataframe\">\n",
       "  <thead>\n",
       "    <tr style=\"text-align: right;\">\n",
       "      <th></th>\n",
       "      <th>city_district</th>\n",
       "      <th>lot_number</th>\n",
       "      <th>main_number</th>\n",
       "      <th>sub_number</th>\n",
       "      <th>apartment_name</th>\n",
       "      <th>exclusive_area</th>\n",
       "      <th>contract_year_month</th>\n",
       "      <th>contract_day</th>\n",
       "      <th>floor</th>\n",
       "      <th>construction_year</th>\n",
       "      <th>...</th>\n",
       "      <th>distance_elem100</th>\n",
       "      <th>distance_middle50</th>\n",
       "      <th>distance_middle75</th>\n",
       "      <th>distance_middle100</th>\n",
       "      <th>daechi_mokdong</th>\n",
       "      <th>contract_month</th>\n",
       "      <th>high_achivement</th>\n",
       "      <th>cleaned_address</th>\n",
       "      <th>coordinate_x</th>\n",
       "      <th>coordinate_y</th>\n",
       "    </tr>\n",
       "  </thead>\n",
       "  <tbody>\n",
       "    <tr>\n",
       "      <th>720188</th>\n",
       "      <td>서울특별시 서초구 신원동</td>\n",
       "      <td>NaN</td>\n",
       "      <td>NaN</td>\n",
       "      <td>NaN</td>\n",
       "      <td>힐스테이트 서초 젠트리스</td>\n",
       "      <td>84.99</td>\n",
       "      <td>201504</td>\n",
       "      <td>17</td>\n",
       "      <td>9</td>\n",
       "      <td>2014</td>\n",
       "      <td>...</td>\n",
       "      <td>1</td>\n",
       "      <td>0</td>\n",
       "      <td>0</td>\n",
       "      <td>1</td>\n",
       "      <td>0</td>\n",
       "      <td>0</td>\n",
       "      <td>0</td>\n",
       "      <td>NaN</td>\n",
       "      <td>NaN</td>\n",
       "      <td>NaN</td>\n",
       "    </tr>\n",
       "    <tr>\n",
       "      <th>720189</th>\n",
       "      <td>서울특별시 서초구 신원동</td>\n",
       "      <td>NaN</td>\n",
       "      <td>NaN</td>\n",
       "      <td>NaN</td>\n",
       "      <td>힐스테이트 서초 젠트리스</td>\n",
       "      <td>101.90</td>\n",
       "      <td>201505</td>\n",
       "      <td>1</td>\n",
       "      <td>6</td>\n",
       "      <td>2014</td>\n",
       "      <td>...</td>\n",
       "      <td>1</td>\n",
       "      <td>0</td>\n",
       "      <td>0</td>\n",
       "      <td>1</td>\n",
       "      <td>0</td>\n",
       "      <td>0</td>\n",
       "      <td>0</td>\n",
       "      <td>NaN</td>\n",
       "      <td>NaN</td>\n",
       "      <td>NaN</td>\n",
       "    </tr>\n",
       "  </tbody>\n",
       "</table>\n",
       "<p>2 rows × 84 columns</p>\n",
       "</div>"
      ],
      "text/plain": [
       "        city_district lot_number  main_number  sub_number apartment_name  \\\n",
       "720188  서울특별시 서초구 신원동        NaN          NaN         NaN  힐스테이트 서초 젠트리스   \n",
       "720189  서울특별시 서초구 신원동        NaN          NaN         NaN  힐스테이트 서초 젠트리스   \n",
       "\n",
       "        exclusive_area  contract_year_month  contract_day  floor  \\\n",
       "720188           84.99               201504            17      9   \n",
       "720189          101.90               201505             1      6   \n",
       "\n",
       "        construction_year  ... distance_elem100  distance_middle50  \\\n",
       "720188               2014  ...                1                  0   \n",
       "720189               2014  ...                1                  0   \n",
       "\n",
       "       distance_middle75 distance_middle100 daechi_mokdong contract_month  \\\n",
       "720188                 0                  1              0              0   \n",
       "720189                 0                  1              0              0   \n",
       "\n",
       "       high_achivement cleaned_address  coordinate_x coordinate_y  \n",
       "720188               0             NaN           NaN          NaN  \n",
       "720189               0             NaN           NaN          NaN  \n",
       "\n",
       "[2 rows x 84 columns]"
      ]
     },
     "execution_count": 73,
     "metadata": {},
     "output_type": "execute_result"
    }
   ],
   "source": [
    "indices_to_check = [720188, 720189]\n",
    "specific_rows = merged_df.loc[indices_to_check]\n",
    "\n",
    "specific_rows"
   ]
  },
  {
   "cell_type": "code",
   "execution_count": 29,
   "metadata": {},
   "outputs": [
    {
     "data": {
      "text/plain": [
       "0          서울특별시 강남구 개포동 658-1\n",
       "1          서울특별시 강남구 개포동 658-1\n",
       "2          서울특별시 강남구 개포동 658-1\n",
       "3          서울특별시 강남구 개포동 658-1\n",
       "4          서울특별시 강남구 개포동 658-1\n",
       "                  ...         \n",
       "1118817      서울특별시 은평구 구산동 382\n",
       "1118818      서울특별시 은평구 구산동 382\n",
       "1118819      서울특별시 은평구 구산동 382\n",
       "1118820      서울특별시 은평구 구산동 382\n",
       "1118821     서울특별시 중구 묵정동 11-67\n",
       "Name: unique_key, Length: 1118822, dtype: object"
      ]
     },
     "execution_count": 29,
     "metadata": {},
     "output_type": "execute_result"
    }
   ],
   "source": [
    "train['unique_key']"
   ]
  },
  {
   "cell_type": "code",
   "execution_count": 22,
   "metadata": {},
   "outputs": [
    {
     "data": {
      "text/plain": [
       "coordinate_x                869670\n",
       "coordinate_y                869670\n",
       "complex_application_date    869625\n",
       "rest_area_food               52572\n",
       "cinema_distance             869670\n",
       "large_store_distance        869670\n",
       "government_bond_3yr              0\n",
       "within_250m                      0\n",
       "within_500m                      0\n",
       "beyond_500m                      0\n",
       "nearest_elementary               0\n",
       "nearest_middle                   0\n",
       "distance_elementary              0\n",
       "distance_middle                  0\n",
       "distance_elem50                  0\n",
       "distance_elem75                  0\n",
       "distance_elem100                 0\n",
       "distance_middle50                0\n",
       "distance_middle75                0\n",
       "distance_middle100               0\n",
       "daechi_mokdong                   0\n",
       "contract_month                   0\n",
       "high_achivement                  0\n",
       "dtype: int64"
      ]
     },
     "execution_count": 22,
     "metadata": {},
     "output_type": "execute_result"
    }
   ],
   "source": [
    "train[['coordinate_x', 'coordinate_y', 'complex_application_date',\n",
    "       'rest_area_food',  'cinema_distance',\n",
    "       'large_store_distance', 'government_bond_3yr',  'within_250m', 'within_500m', 'beyond_500m',\n",
    "       'nearest_elementary', 'nearest_middle', 'distance_elementary',\n",
    "       'distance_middle', 'distance_elem50', 'distance_elem75',\n",
    "       'distance_elem100', 'distance_middle50', 'distance_middle75',\n",
    "       'distance_middle100', 'daechi_mokdong', 'contract_month',\n",
    "       'high_achivement' ]].isnull().sum()"
   ]
  },
  {
   "cell_type": "code",
   "execution_count": 23,
   "metadata": {},
   "outputs": [
    {
     "data": {
      "text/plain": [
       "coordinate_x                6562\n",
       "coordinate_y                6562\n",
       "complex_application_date    6562\n",
       "rest_area_food               300\n",
       "cinema_distance             6562\n",
       "large_store_distance        6562\n",
       "government_bond_3yr            0\n",
       "within_250m                   73\n",
       "within_500m                   73\n",
       "beyond_500m                   73\n",
       "nearest_elementary          6562\n",
       "nearest_middle              6562\n",
       "distance_elementary         6562\n",
       "distance_middle             6562\n",
       "distance_elem50                0\n",
       "distance_elem75                0\n",
       "distance_elem100               0\n",
       "distance_middle50              0\n",
       "distance_middle75              0\n",
       "distance_middle100             0\n",
       "daechi_mokdong                 0\n",
       "contract_month                 0\n",
       "high_achivement                0\n",
       "dtype: int64"
      ]
     },
     "execution_count": 23,
     "metadata": {},
     "output_type": "execute_result"
    }
   ],
   "source": [
    "test[['coordinate_x', 'coordinate_y', 'complex_application_date',\n",
    "       'rest_area_food',  'cinema_distance',\n",
    "       'large_store_distance', 'government_bond_3yr',  'within_250m', 'within_500m', 'beyond_500m',\n",
    "       'nearest_elementary', 'nearest_middle', 'distance_elementary',\n",
    "       'distance_middle', 'distance_elem50', 'distance_elem75',\n",
    "       'distance_elem100', 'distance_middle50', 'distance_middle75',\n",
    "       'distance_middle100', 'daechi_mokdong', 'contract_month',\n",
    "       'high_achivement' ]].isnull().sum()"
   ]
  },
  {
   "cell_type": "code",
   "execution_count": 7,
   "metadata": {},
   "outputs": [
    {
     "data": {
      "text/plain": [
       "546812"
      ]
     },
     "execution_count": 7,
     "metadata": {},
     "output_type": "execute_result"
    }
   ],
   "source": [
    "data['coordinate_x'].isna().sum()"
   ]
  },
  {
   "cell_type": "code",
   "execution_count": null,
   "metadata": {},
   "outputs": [],
   "source": [
    "# '시군구'와 '번지'를 합쳐서 새로운 열 생성\n",
    "data['unique_key'] = data['시군구'] + ' ' + data['번지']\n",
    "\n",
    "# 'unique_key'를 기준으로 중복 행 제거\n",
    "unique_data = data.drop_duplicates(subset=['unique_key'])"
   ]
  },
  {
   "cell_type": "code",
   "execution_count": null,
   "metadata": {},
   "outputs": [],
   "source": [
    "# 'city_district'와 'lot_number'를 결합하여 새로운 'unique_key' 생성\n",
    "dt['unique_key'] = dt['city_district'] + ' ' + dt['lot_number']\n",
    "dt_test['unique_key'] = dt_test['city_district'] + ' ' + dt_test['lot_number']"
   ]
  },
  {
   "cell_type": "code",
   "execution_count": null,
   "metadata": {},
   "outputs": [],
   "source": [
    "# unique_data의 컬럼 이름 변경\n",
    "unique_data.rename(columns={'500m_내_정류소_수': 'within_500m_bus'}, inplace=True)\n",
    "\n"
   ]
  },
  {
   "cell_type": "code",
   "execution_count": null,
   "metadata": {},
   "outputs": [],
   "source": [
    "# 병합할 컬럼들이 존재하는지 확인\n",
    "missing_columns = [col for col in columns_to_merge if col not in unique_data.columns]\n",
    "if missing_columns:\n",
    "    print(f\"병합할 컬럼이 존재하지 않습니다: {missing_columns}\")\n",
    "else:\n",
    "    # 데이터프레임 병합\n",
    "    merged_data = pd.merge(dt_test, unique_data[columns_to_merge], on='unique_key', how='left')\n",
    "    merged_data.to_csv('/root/0715_test_data.csv', index=False)"
   ]
  },
  {
   "cell_type": "code",
   "execution_count": null,
   "metadata": {},
   "outputs": [],
   "source": [
    "# 필요한 컬럼만 선택하여 병합\n",
    "columns_to_merge = ['unique_key', 'within_500m_bus', 'nearest_distance', 'within_250m', 'within_500m', 'beyond_500m']\n",
    "merged_data = pd.merge(dt_test, unique_data[columns_to_merge], on='unique_key', how='left')"
   ]
  }
 ],
 "metadata": {
  "kernelspec": {
   "display_name": "venv",
   "language": "python",
   "name": "python3"
  },
  "language_info": {
   "codemirror_mode": {
    "name": "ipython",
    "version": 3
   },
   "file_extension": ".py",
   "mimetype": "text/x-python",
   "name": "python",
   "nbconvert_exporter": "python",
   "pygments_lexer": "ipython3",
   "version": "3.10.13"
  }
 },
 "nbformat": 4,
 "nbformat_minor": 2
}
